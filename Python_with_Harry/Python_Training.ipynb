{
  "cells": [
    {
      "cell_type": "markdown",
      "metadata": {
        "id": "3aG_OlorDVfb"
      },
      "source": [
        "# **Python Basics Training**\n",
        "\n",
        "Start Date: July 25th, 2022\n",
        "\n",
        "------- - ------- --- - -- - -- - -- - - -- - -- -- -- -- - \n",
        "*Dilshad Raza*\\\n",
        "*Institute of Geology*\\\n",
        "*University of the Punjab,*\\\n",
        "*Lahore, 54590 - Pakistan*. \n",
        "- - -- -- - -- --- -- - -- - -- - - -- - - -- - - -- - -- -\n",
        "\n",
        "**01 - What is Programming?**\\\n",
        "Just like we use urdu, english, punjabi languages to communicate with each others, In the same sense, to communicate with computer we need programming. Programming is a way to instruct computer to perform various tasks.\n",
        "\n",
        "**02 - What is Python?**\\\n",
        "Python is a simple and easy to understand programming language which is simply similar to english with easy to understand syntax. It is a high level language. This pseudo code nature of python is the reason for the popularity of the python.\n",
        "\n",
        "**03 - Features of Python?**\n",
        "- Easy to understand ---> Less Development time\n",
        "- Free and Open Source\n",
        "- High level language\n",
        "- Portable which means, works on linux, windows, mac\n",
        "- Is widely used for Data Science, Machine Learning, Artificial Intelligence and for web and app development.\n",
        "\n",
        "## **Chapter 01 : Modules, pip & Comments**\n",
        "\n",
        "**Module:**\\\n",
        "A module is a file containing code written by somebody else which can be imported and used for our programs. There are a huge number of modules present to date for python. They can make work very easy and can solve very complex problem with in minutes and very less lines of codes.\n",
        "\n",
        "**Types of Modules**\\\n",
        "There are two types of modules;\\\n",
        "1- External Modules are required to be intalled to system to use\\\n",
        "2- Built-in Modules come with python and a pre installed with python.\n",
        "\n",
        "**pip:**\\\n",
        "Pip is the package manger for python that we can use to install modules on our system.\n",
        "\n",
        "i.e. *pip install flask* will install the module flask in our system which can be imported for our purposes. i.e. *import flask*\n",
        "\n",
        "**Comments:**\\\n",
        "Comments are used to write things on code that we donot want to execute. Can be used to tell wat the code lines are actually written to do. When we see old codes, we might want to understand that code, so if it will be well commented,  it will easier for anyone to use that code again with out doing much of the hardwork to understand the code by themselves.\n",
        "\n",
        "**Types of Comments:**\\\n",
        "1- **Single Line Comments** written using # \\\n",
        "2- **Multiline comments** written using ''' Comment Lines '''.\n",
        "\n",
        "\n",
        "\n",
        "\n",
        "\n",
        "\n",
        "\n",
        "\n",
        "\n",
        "\n",
        "\n",
        "\n",
        "\n",
        "\n",
        "\n",
        "\n"
      ]
    },
    {
      "cell_type": "code",
      "execution_count": 1,
      "metadata": {
        "colab": {
          "base_uri": "https://localhost:8080/"
        },
        "id": "kwK1QX6PK_vn",
        "outputId": "f18046f0-add1-4480-a0a9-25fe79ade05b"
      },
      "outputs": [
        {
          "name": "stdout",
          "output_type": "stream",
          "text": [
            "Twinkle twinkle little star.\n",
            "How I wonder what you are.\n",
            "Up above the world so high.\n",
            "Like a diamond in the sky.\n",
            "Twinkle twinkle little star.\n",
            "How I wonder what you are.\n",
            "\n",
            "Twinkle twinkle little star.\n",
            "How I wonder what you are.\n",
            "Up above the world so high.\n",
            "Like a diamond in the sky.\n",
            "Twinkle twinkle little star.\n",
            "How I wonder what you are.\n"
          ]
        }
      ],
      "source": [
        "# Write a program to print Twinkle twinkle little star poem in python?\n",
        "\n",
        "# Sol:\n",
        "\n",
        "print('''Twinkle twinkle little star.\n",
        "How I wonder what you are.\n",
        "Up above the world so high.\n",
        "Like a diamond in the sky.\n",
        "Twinkle twinkle little star.\n",
        "How I wonder what you are.\n",
        "\n",
        "Twinkle twinkle little star.\n",
        "How I wonder what you are.\n",
        "Up above the world so high.\n",
        "Like a diamond in the sky.\n",
        "Twinkle twinkle little star.\n",
        "How I wonder what you are.''')\n"
      ]
    },
    {
      "cell_type": "code",
      "execution_count": 2,
      "metadata": {
        "colab": {
          "base_uri": "https://localhost:8080/"
        },
        "id": "z3okl3pqL9Cx",
        "outputId": "65b0ae55-d9f2-4a57-fcfd-6f9feba8e0d5"
      },
      "outputs": [
        {
          "name": "stdout",
          "output_type": "stream",
          "text": [
            "5\n",
            "10\n",
            "15\n",
            "20\n",
            "25\n",
            "30\n",
            "35\n",
            "40\n",
            "45\n",
            "50\n"
          ]
        }
      ],
      "source": [
        "# Print the table of 5 using python.\n",
        "print(5*1)\n",
        "print(5*2)\n",
        "print(5*3)\n",
        "print(5*4)\n",
        "print(5*5)\n",
        "print(5*6)\n",
        "print(5*7)\n",
        "print(5*8)\n",
        "print(5*9)\n",
        "print(5*10)\n"
      ]
    },
    {
      "cell_type": "code",
      "execution_count": null,
      "metadata": {
        "colab": {
          "base_uri": "https://localhost:8080/"
        },
        "id": "GtpyM1YzNC4d",
        "outputId": "6a25c9ed-caf1-4597-9df0-d12910dbe59d"
      },
      "outputs": [
        {
          "name": "stdout",
          "output_type": "stream",
          "text": [
            "Looking in indexes: https://pypi.org/simple, https://us-python.pkg.dev/colab-wheels/public/simple/\n",
            "Requirement already satisfied: flask in /usr/local/lib/python3.7/dist-packages (1.1.4)\n",
            "Requirement already satisfied: click<8.0,>=5.1 in /usr/local/lib/python3.7/dist-packages (from flask) (7.1.2)\n",
            "Requirement already satisfied: itsdangerous<2.0,>=0.24 in /usr/local/lib/python3.7/dist-packages (from flask) (1.1.0)\n",
            "Requirement already satisfied: Jinja2<3.0,>=2.10.1 in /usr/local/lib/python3.7/dist-packages (from flask) (2.11.3)\n",
            "Requirement already satisfied: Werkzeug<2.0,>=0.15 in /usr/local/lib/python3.7/dist-packages (from flask) (1.0.1)\n",
            "Requirement already satisfied: MarkupSafe>=0.23 in /usr/local/lib/python3.7/dist-packages (from Jinja2<3.0,>=2.10.1->flask) (2.0.1)\n"
          ]
        }
      ],
      "source": [
        "# install a module \n",
        "pip install flask"
      ]
    },
    {
      "cell_type": "code",
      "execution_count": 3,
      "metadata": {
        "colab": {
          "base_uri": "https://localhost:8080/"
        },
        "id": "a_D4PwE4NkbB",
        "outputId": "7d797289-b0ae-4b82-e350-9fa215495641"
      },
      "outputs": [
        {
          "name": "stdout",
          "output_type": "stream",
          "text": [
            "['Python_Training.ipynb']\n"
          ]
        }
      ],
      "source": [
        "# Write a python program to print the contents of a directory using os module.\n",
        "import os\n",
        "print(os.listdir())\n"
      ]
    },
    {
      "cell_type": "markdown",
      "metadata": {
        "id": "EQOuzVynOXBb"
      },
      "source": [
        "## **Chapter 02: Variables and DataTypes**\n",
        "\n",
        "**Variable:**\\\n",
        "A variable is a name given to a memory location in a program. A variable is one in which something is stored. A container that stores a value. e.g.\\\n",
        "a = 30\\\n",
        "b ='Dilshad'\\\n",
        "c = 24.5\n",
        "\n",
        "**Rules for defining a Variable Name:**\n",
        "- A variable name can contain alphabets, digits and underscores\n",
        "- A variable name can only start with an alphabet and underscore\n",
        "- A variable name can not start with a digit\n",
        "- No white space/space is allowed to be used inside a variable name\n",
        "- Variable names are Case Sensitive.\n",
        "\n",
        "**DataTypes:**\\\n",
        "Primarily there are following \n",
        "datatypes in python\\\n",
        "1- Integers\\\n",
        "2- Strings\\\n",
        "3- Floating point numbers\\\n",
        "4- Booleans\\\n",
        "5- None\n",
        "\n",
        "Python is a great language that automatically finds the type of data by using type function. If we want to find the type of data, we can simply write:\\\n",
        "*type(any value)*\\\n",
        "It will print the value datatype that you entered.\n",
        "\n",
        "\n",
        "**Operators in Python**\\\n",
        "Following are the common operators in python:\n",
        "- Arthimetic Operators (+,-,*,/, etc.)\n",
        "- Assignment Operators (=, +=, -=, etc.)\n",
        "- Comparision Operators (==, >,>=,<,<=, != etc)\n",
        "- Logical Operators (and, or, not)\n",
        "\n",
        "**type Function and Type Casting**\\\n",
        "type function is an inbuilt function that provides the type of the input given. It can give us type of values, variables.\n",
        "\n",
        "Type casting is a way to convert one datatype to another.\n",
        "\n",
        "\n",
        "\n"
      ]
    },
    {
      "cell_type": "code",
      "execution_count": 4,
      "metadata": {
        "colab": {
          "base_uri": "https://localhost:8080/"
        },
        "id": "uNk5bLlLN_2p",
        "outputId": "c6749b0d-f7d1-4d39-9951-3ce2bdf88d28"
      },
      "outputs": [
        {
          "name": "stdout",
          "output_type": "stream",
          "text": [
            "The value of 3+4 is 7\n",
            "The value of 3-4 is -1\n",
            "The value of 3*4 is 12\n",
            "The value of 3/4 is 0.75\n"
          ]
        }
      ],
      "source": [
        "# Arthimetic Operators\n",
        "a = 3\n",
        "b = 4\n",
        "\n",
        "print('The value of 3+4 is', 3+4)#addition\n",
        "print('The value of 3-4 is', 3-4)#subtraction\n",
        "print('The value of 3*4 is', 3*4)#multiplication\n",
        "print('The value of 3/4 is', 3/4) #division"
      ]
    },
    {
      "cell_type": "code",
      "execution_count": 5,
      "metadata": {
        "colab": {
          "base_uri": "https://localhost:8080/"
        },
        "id": "GBk5yqgzhlqE",
        "outputId": "b98866b2-a55f-4007-c7a0-35a3255eb7aa"
      },
      "outputs": [
        {
          "name": "stdout",
          "output_type": "stream",
          "text": [
            "36 30 99 11.0\n"
          ]
        }
      ],
      "source": [
        "# Assignment Operators\n",
        "\n",
        "a =34\n",
        "a +=2 # adds 2 to values stored in \"a\" Variable\n",
        "\n",
        "b = 33\n",
        "b-= 3 # subtracts 3 to values stored in \"b\" Variable\n",
        "\n",
        "\n",
        "c = 33\n",
        "c*= 3 # multiply 3 to values stored in \"c\" Variable\n",
        "\n",
        "\n",
        "\n",
        "d = 33\n",
        "d/= 3 # divides 3 to values stored in \"d\" Variable\n",
        "\n",
        "print(a,b,c,d)"
      ]
    },
    {
      "cell_type": "code",
      "execution_count": 6,
      "metadata": {
        "colab": {
          "base_uri": "https://localhost:8080/"
        },
        "id": "HaB1lC72iblU",
        "outputId": "11733373-29e3-4726-a0b0-09d83573540c"
      },
      "outputs": [
        {
          "name": "stdout",
          "output_type": "stream",
          "text": [
            "False True False True True False\n"
          ]
        }
      ],
      "source": [
        "# Comparision Operators\n",
        "\n",
        "x = (4>7)# greater than\n",
        "y = (5<9) #less than\n",
        "yy = (5<=9)# less than or equal to\n",
        "xx = (5>=9)# greater than or equal to\n",
        "zz = (5==6)# equal to\n",
        "z = (5!=6) #not equal to \n",
        "\n",
        "print(x,y,xx,yy,z,zz)"
      ]
    },
    {
      "cell_type": "code",
      "execution_count": 7,
      "metadata": {
        "colab": {
          "base_uri": "https://localhost:8080/"
        },
        "id": "MILrBX7qjNfy",
        "outputId": "a0a8b7b3-7f51-4936-ee8e-9205c3d6869b"
      },
      "outputs": [
        {
          "name": "stdout",
          "output_type": "stream",
          "text": [
            "The Values of bool1 and bool2 is False\n",
            "The Values of bool1 or bool2 is True\n",
            "The Values of bool1 not bool2 is True\n"
          ]
        }
      ],
      "source": [
        "# Logical Operators\n",
        "bool1 = True\n",
        "bool2=False\n",
        "\n",
        "print('The Values of bool1 and bool2 is', (bool1 and bool2))# prints true when both are true\n",
        "print('The Values of bool1 or bool2 is', (bool1 or bool2)) # prints true when any of it is true\n",
        "print('The Values of bool1 not bool2 is', (not bool2)) # prints opposite to value"
      ]
    },
    {
      "cell_type": "code",
      "execution_count": 8,
      "metadata": {
        "colab": {
          "base_uri": "https://localhost:8080/"
        },
        "id": "R16bvFgVkM-R",
        "outputId": "b83947af-3041-4384-cd46-d566f7c1927e"
      },
      "outputs": [
        {
          "name": "stdout",
          "output_type": "stream",
          "text": [
            "<class 'int'>\n",
            "<class 'int'>\n",
            "<class 'int'>\n",
            "<class 'float'>\n",
            "<class 'bool'>\n",
            "<class 'bool'>\n",
            "<class 'bool'>\n",
            "<class 'bool'>\n",
            "<class 'bool'>\n",
            "<class 'bool'>\n",
            "<class 'bool'>\n",
            "<class 'bool'>\n"
          ]
        }
      ],
      "source": [
        "# type functions\n",
        "print(type(a))\n",
        "print(type(b))\n",
        "print(type(c))\n",
        "print(type(d))\n",
        "print(type(x))\n",
        "print(type(xx))\n",
        "print(type(y))\n",
        "print(type(yy))\n",
        "print(type(z))\n",
        "print(type(zz))\n",
        "print(type(bool1))\n",
        "print(type(bool2))"
      ]
    },
    {
      "cell_type": "code",
      "execution_count": 9,
      "metadata": {
        "colab": {
          "base_uri": "https://localhost:8080/"
        },
        "id": "Fi9FwyOLjrWX",
        "outputId": "1e699015-9ab9-4225-e48f-63d2c62258e2"
      },
      "outputs": [
        {
          "name": "stdout",
          "output_type": "stream",
          "text": [
            "<class 'int'>\n",
            "<class 'float'>\n",
            "<class 'str'>\n"
          ]
        }
      ],
      "source": [
        "#type casting\n",
        "\n",
        "a = '353' #string\n",
        "a =int(a) #string into int\n",
        "\n",
        "b = 98 #integer\n",
        "b = float(b) #integer to float\n",
        "c = str(b)# integer to string\n",
        "\n",
        "print(type(a))\n",
        "print(type(b))\n",
        "print(type(c))"
      ]
    },
    {
      "cell_type": "markdown",
      "metadata": {
        "id": "EJ_o2K28pP8x"
      },
      "source": [
        "**Input Function:**\n",
        "\n",
        "A builtin function that takes user input and put into the variable. Like we can ask user to provide details and then can process it by asigning varibales to each input. Input is always takken as string. But then typecasting can be used to play with data."
      ]
    },
    {
      "cell_type": "code",
      "execution_count": 10,
      "metadata": {
        "colab": {
          "base_uri": "https://localhost:8080/"
        },
        "id": "DaEkq0yZphiA",
        "outputId": "989ea986-e03d-4033-f155-a9a601dcd98f"
      },
      "outputs": [
        {
          "name": "stdout",
          "output_type": "stream",
          "text": [
            "Hey Dilshad Welcome to Python Training program.\n"
          ]
        }
      ],
      "source": [
        "a = input('Enter Your Name:')\n",
        "print('Hey',a, 'Welcome to Python Training program.')"
      ]
    },
    {
      "cell_type": "markdown",
      "metadata": {
        "id": "eESzVCl0sXA1"
      },
      "source": [
        "**Practice Questions for Chapter 2**"
      ]
    },
    {
      "cell_type": "code",
      "execution_count": 11,
      "metadata": {
        "colab": {
          "base_uri": "https://localhost:8080/"
        },
        "id": "rPqNbF3hsWBT",
        "outputId": "386b4de0-31cd-41e8-8a0b-e2579c26214f"
      },
      "outputs": [
        {
          "name": "stdout",
          "output_type": "stream",
          "text": [
            "The Sum of two numbers is 133\n"
          ]
        }
      ],
      "source": [
        "# a program that can add two numbers\n",
        "\n",
        "num1 = input('Write First Number')\n",
        "num1 = int(num1)\n",
        "num2 = input('Write Second Number')\n",
        "num2 = int(num2)\n",
        "print('The Sum of two numbers is',num1+num2)"
      ]
    },
    {
      "cell_type": "code",
      "execution_count": 12,
      "metadata": {
        "colab": {
          "base_uri": "https://localhost:8080/"
        },
        "id": "7EzL5V9-tBwf",
        "outputId": "1f670107-4809-4770-ecf8-3f4254113a42"
      },
      "outputs": [
        {
          "name": "stdout",
          "output_type": "stream",
          "text": [
            "Remainder of the Value when divided by 2 is 1\n"
          ]
        }
      ],
      "source": [
        "# write a program to find remainder when a number is divided by 2.\n",
        "\n",
        "a = 21\n",
        "b= 2\n",
        "c = a%b\n",
        "print('Remainder of the Value when divided by 2 is', c)"
      ]
    },
    {
      "cell_type": "code",
      "execution_count": 13,
      "metadata": {
        "colab": {
          "base_uri": "https://localhost:8080/"
        },
        "id": "4IRCmHlhtoEN",
        "outputId": "a82f340c-e26a-47a8-9966-c2833a83315b"
      },
      "outputs": [
        {
          "name": "stdout",
          "output_type": "stream",
          "text": [
            "<class 'str'>\n"
          ]
        }
      ],
      "source": [
        "# check the type of variable assigned uusing input function\n",
        "\n",
        "a = input('Write Anything: ')\n",
        "\n",
        "print(type(a))"
      ]
    },
    {
      "cell_type": "code",
      "execution_count": null,
      "metadata": {
        "colab": {
          "base_uri": "https://localhost:8080/"
        },
        "id": "bFwd9T-Vt3yG",
        "outputId": "430ef066-8ae5-4e62-d4ce-d311d7b4f6c2"
      },
      "outputs": [
        {
          "name": "stdout",
          "output_type": "stream",
          "text": [
            "False\n"
          ]
        }
      ],
      "source": [
        "# use comparision operator to find out wheter a given variable a is greater than b or not (take a =34, b=80)\n",
        "\n",
        "a = 34\n",
        "b = 80\n",
        "\n",
        "print(a>b)"
      ]
    },
    {
      "cell_type": "code",
      "execution_count": null,
      "metadata": {
        "colab": {
          "base_uri": "https://localhost:8080/"
        },
        "id": "Z1cg4rIYuZD3",
        "outputId": "24fe821f-c4ea-4a24-bf17-542bd5f0a5dd"
      },
      "outputs": [
        {
          "name": "stdout",
          "output_type": "stream",
          "text": [
            "Enter First Number: 343\n",
            "Enter Second Number: 77\n",
            "The Average of Input Numbers is 381.5\n"
          ]
        }
      ],
      "source": [
        "# write a python program to find an average of two numbers entered by user?\n",
        "\n",
        "nm1 = input('Enter First Number: ')\n",
        "nm1 = int(nm1)\n",
        "nm2 = input('Enter Second Number: ')\n",
        "nm2 = int(nm2)\n",
        "\n",
        "print('The Average of Input Numbers is',nm1+nm2/2)"
      ]
    },
    {
      "cell_type": "code",
      "execution_count": null,
      "metadata": {
        "colab": {
          "base_uri": "https://localhost:8080/"
        },
        "id": "iVrySc4NvSAP",
        "outputId": "0d0f0ab6-57f0-4cdf-81a3-f5ca5b90f79a"
      },
      "outputs": [
        {
          "name": "stdout",
          "output_type": "stream",
          "text": [
            "Enter Number: 8\n",
            "The Square of the number is 64\n"
          ]
        }
      ],
      "source": [
        "# write a python program to calculate square of a number entered by the user.\n",
        "sqn = input('Enter Number: ')\n",
        "sqn = int(sqn)\n",
        "\n",
        "print('The Square of the number is',sqn**2)"
      ]
    },
    {
      "cell_type": "markdown",
      "metadata": {
        "id": "43mXW4sbwPt7"
      },
      "source": [
        "## **Chapter 03: Strings**\n",
        "\n",
        "- String is a data type in python\n",
        "- String is a squence of characters enclosed in quotes.\n",
        "\n",
        "We can write strings in three ways:\\\n",
        "1- Single Quoted Strings ---> *a = 'dilshad'*\\\n",
        "2- Double Quoted Strings ---> *b = \"dilshad\"*\\\n",
        "3- Triple Quoted Strings ---> *c = '''dilshad'''*\n",
        "\n",
        "**String Slicing**\\\n",
        "A string in python can be sliced for getting a part of the string.\\\n",
        "Consider the following string:\\\n",
        "  name = \"Dilshad\" ---> Length = 7\\\n",
        "          0123456 <--- counting from left to right(indexing) \\\n",
        "          7654321 <--- counting from right to left(indexing)\n",
        "\n",
        "- The index of string starts from zero. So (length - 1) will be used to print whole string In order to index a string, we use follwoing syntax;\n",
        "\n",
        "*a = 'Dilshad'*\\\n",
        "*a[0]* #gives output D\\\n",
        "*a[3]* # gives output s\\\n",
        "*a[7]* # gives erro because there is no character is indexed at '7'. So it means we can index string upto the **(length - 1)**\n",
        "  - We cannot change a character in string with indexing is Not allowed;\n",
        "\n",
        "\n",
        "e.g.\\\n",
        "*a = 'Dilshad'* # string\\\n",
        "*a[4] = 'a'* # Error, interpreter not able to replace or change it.\n",
        "\n",
        "\n",
        "  - If we want to get a series of strings characters; we can use syntax as;\n",
        "\n",
        "\n",
        "*a = 'Dilshad'* # string\\\n",
        "*a[0:4]* # gives 'Dils' as 5th letter is not counted after colon(:) in here.\n",
        "\n",
        "**Negative Indices:**\\\n",
        "Negative indices can also be used to find last character by just using -1 in indexing.\n",
        "*a = 'Dilshad'* # string\\\n",
        "Negative indices its values are -1-2-3-4-5-6-7 necayse it starts from -1 not zero.\n",
        "\n",
        "**Slicing with skip value**\\\n",
        "We can provide a skp value as a part of our slice like as;\n",
        "\n",
        "a = 'beautiful'\\\n",
        "a[1:5:2] will provides, 'eu as output'\\\n",
        "a[start from:end till:Skip every 2nd value]         in this case.\n",
        "\n",
        "\n",
        "## **String Functions:**\n",
        "1- **len() function**:\\\n",
        "it gives length of all the characters in the string.\\\n",
        "\n",
        "2- **string.endswith('df')**\\\n",
        "returns true or false depending upon the end of string if it matches the requirements.\n",
        "\n",
        "3- **string.count('a')**\\\n",
        "count the number of characters occured appeared in a string\n",
        "\n",
        "4- **string.capitalize**\\\n",
        "capitalize first letter of string\n",
        "\n",
        "5- **string.find()**\\\n",
        "finds first occurence of string\n",
        "\n",
        "6- **string.replace()**\\\n",
        "replaces characters in string with new characters\n",
        "\n",
        "\n",
        "\n",
        "          \n"
      ]
    },
    {
      "cell_type": "code",
      "execution_count": 14,
      "metadata": {
        "colab": {
          "base_uri": "https://localhost:8080/"
        },
        "id": "tEi6XT6HWN62",
        "outputId": "9a453a2c-ae5e-4788-b9fd-72a466783aea"
      },
      "outputs": [
        {
          "name": "stdout",
          "output_type": "stream",
          "text": [
            "127\n",
            "False\n",
            "7\n",
            "25\n",
            "once there was a thirsty fox. \n",
            "He was seaching for water. \n",
            "He was thirsty so he wanted to drink water. \n",
            "He saw a pot of water.\n"
          ]
        }
      ],
      "source": [
        "story= '''once there was a thirsty crow. \n",
        "He was seaching for water. \n",
        "He was thirsty so he wanted to drink water. \n",
        "He saw a pot of water.'''\n",
        "# string functions\n",
        "\n",
        "print(len(story))\n",
        "print(story.endswith('er'))\n",
        "print(story.count('o'))\n",
        "story.capitalize()\n",
        "print(story.find('crow'))\n",
        "print(story.replace('crow', 'fox'))\n"
      ]
    },
    {
      "cell_type": "markdown",
      "metadata": {
        "id": "cOCB-ocXSJvy"
      },
      "source": [
        "**Escape Sequences**\\\n",
        "Sequence of characters after backslash(\\\\)\\\n",
        "\\n(newline), \\t(tab) ,\\'(singlequote), \\\\(backslash) etc. are known as escape sequence characters. \n",
        "\n",
        "## **Practice Set 3**"
      ]
    },
    {
      "cell_type": "code",
      "execution_count": 15,
      "metadata": {
        "id": "1GFcXr_QdxJB"
      },
      "outputs": [
        {
          "name": "stdout",
          "output_type": "stream",
          "text": [
            "Dilshad , Good Afternoon!\n"
          ]
        }
      ],
      "source": [
        "# write a python program to display a user entered name followed by Good Afternoon using Python.\n",
        "\n",
        "name = input('Enter Your Name:')\n",
        "print(name,', Good Afternoon!')"
      ]
    },
    {
      "cell_type": "code",
      "execution_count": 17,
      "metadata": {},
      "outputs": [
        {
          "name": "stdout",
          "output_type": "stream",
          "text": [
            "Dear Ali,\n",
            "You are selected!\n",
            "\n",
            "Nov 27th, 2022\n",
            "\n"
          ]
        }
      ],
      "source": [
        "# write a program to fill in a letter template given below with name and date.\n",
        "\n",
        "letter = '''Dear <|NAME|>,\n",
        "You are selected!\n",
        "\n",
        "<|DATE|>\n",
        "'''\n",
        "name = input('Enter Name')\n",
        "date = input('Enter Date:')\n",
        "\n",
        "letter = letter.replace('<|NAME|>', name)\n",
        "letter = letter.replace('<|DATE|>', date)\n",
        "print(letter)"
      ]
    },
    {
      "cell_type": "code",
      "execution_count": 18,
      "metadata": {},
      "outputs": [
        {
          "name": "stdout",
          "output_type": "stream",
          "text": [
            "18\n"
          ]
        }
      ],
      "source": [
        "# write a program to detect doublw spaces in a string\n",
        "a = 'In the lost space,  I found you, You were always within me, but lost, i found you, you  lost me.'\n",
        "\n",
        "print(a.find('  '))\n",
        "\n"
      ]
    },
    {
      "cell_type": "code",
      "execution_count": 19,
      "metadata": {},
      "outputs": [
        {
          "name": "stdout",
          "output_type": "stream",
          "text": [
            "In the lost space, I found you, You were always within me, but lost, i found you, you lost me.\n"
          ]
        }
      ],
      "source": [
        "# replace double spaces with single space in problem above.\n",
        "a = 'In the lost space,  I found you, You were always within me, but lost, i found you, you  lost me.'\n",
        "c = a.find('  ')\n",
        "\n",
        "a = a.replace('  ', ' ')\n",
        "\n",
        "print(a)"
      ]
    },
    {
      "cell_type": "code",
      "execution_count": 1,
      "metadata": {},
      "outputs": [
        {
          "name": "stdout",
          "output_type": "stream",
          "text": [
            "Dear Dilshad, /n/tIt is really great to inform you that you've been selected. /nThank you\n"
          ]
        }
      ],
      "source": [
        "# Format the given string using escape sequence characters\n",
        "\n",
        "letter = \"Dear Dilshad, /n/tIt is really great to inform you that you've been selected. /nThank you\"\n",
        "\n",
        "print(letter)"
      ]
    },
    {
      "cell_type": "markdown",
      "metadata": {},
      "source": [
        "## **Chapter 04 Lists and Tuples**\n",
        "\n",
        "**Lists:**\\\n",
        "Python lists are containers to store a set of values of any datatype:\n",
        "eg./\n",
        "friends = ['Ali', 'Dilshad', 'Sohaib', 'Ahmad', 'Noman', 'Shoaib']\n",
        "\n",
        "**List indexing**:\\\n",
        "A list can also be indexed in the same way as strings\\\n",
        "\n",
        "L1 = [7,8,9,'Dilshad', True]\n",
        "\n",
        "L1[1] ==> 8\\\n",
        "L1[3] ==> 'Dilshad'\\\n",
        "L1[1:3] ==> 8,9\\\n",
        "L1[0:5:2] ===> 7,9,True\n",
        "\n",
        "**Lists are Mutable**/\n",
        "Lists are mutable and we can change values with in them.\n",
        "\n",
        "- We can create a list with items of different data types\n",
        "- We can change the values within lists using indexes\n",
        "- Lists indexes can be done till (lenght - 1) "
      ]
    },
    {
      "cell_type": "code",
      "execution_count": 11,
      "metadata": {},
      "outputs": [
        {
          "name": "stdout",
          "output_type": "stream",
          "text": [
            "[1, 2, 34, 5, 6, 8, 9, 33, 4, 5, 7]\n",
            "8\n",
            "[1, 2, 98, 5, 6, 8, 9, 33, 4, 5, 7]\n",
            "['Dilshad', 'Ali', 'Sohaib', 'Shoaib']\n",
            "['Sohaib', 'Shoaib', 'Noman', 7]\n"
          ]
        }
      ],
      "source": [
        "# create a list\n",
        "\n",
        "list1 = [1,2,34,5,6,8,9,33,4,5,7]\n",
        "\n",
        "# print list\n",
        "print(list1)\n",
        "\n",
        "# access using indexing\n",
        "\n",
        "a =list1[5] \n",
        "print(a)\n",
        "\n",
        "# Change the value of list\n",
        "\n",
        "list1[2] = 98\n",
        "print(list1)\n",
        "\n",
        "# List slicing\n",
        "friends = ['Dilshad', 'Ali', 'Sohaib','Shoaib','Noman', 7]\n",
        "print(friends[0:4])\n",
        "print(friends[-4:])\n",
        "\n"
      ]
    },
    {
      "cell_type": "markdown",
      "metadata": {},
      "source": [
        "**List Methods:**\n",
        "1) *List.sort()*\n",
        "2) *List.reverse()*\n",
        "3) *List.append()*\n",
        "4) *List.insert(index,value to add)*\n",
        "5) *List.pop(index)*\n",
        "6) *List.remove(value)*"
      ]
    },
    {
      "cell_type": "code",
      "execution_count": 19,
      "metadata": {},
      "outputs": [
        {
          "name": "stdout",
          "output_type": "stream",
          "text": [
            "[1, 8, 7, 5, 3, 44, 77, 88, 93, 3, 4, 67, 88]\n",
            "[1, 3, 3, 4, 5, 7, 8, 44, 67, 77, 88, 88, 93]\n",
            "[93, 88, 88, 77, 67, 44, 8, 7, 5, 4, 3, 3, 1]\n",
            "[93, 88, 88, 77, 67, 44, 8, 7, 5, 4, 3, 3, 1, 34]\n",
            "[93, 88, 44, 88, 77, 67, 44, 8, 7, 5, 4, 3, 3, 1, 34]\n",
            "[93, 88, 44, 88, 67, 44, 8, 7, 5, 4, 3, 3, 1, 34]\n",
            "[93, 88, 44, 88, 67, 44, 8, 7, 5, 4, 3, 1, 34]\n"
          ]
        }
      ],
      "source": [
        "# create list\n",
        "l1 =[1,8,7,5,3,44,77,88,93,3,4,67,88]\n",
        "print(l1)\n",
        "\n",
        "# sort method\n",
        "l1.sort() #sort actual list not create a new variable\n",
        "print(l1)\n",
        "\n",
        "# reverse method\n",
        "l1.reverse()\n",
        "print(l1)\n",
        "\n",
        "# VEry important Append method will \n",
        "# add a datatype in the end of list\n",
        "l1.append(34)\n",
        "print(l1)\n",
        "\n",
        "# Insert method\n",
        "l1.insert(2,44)\n",
        "print(l1)\n",
        "\n",
        "\n",
        "# pop method\n",
        "l1.pop(4) # removes value indexed at 4\n",
        "print(l1)\n",
        "\n",
        "# remove method\n",
        "l1.remove(3) #remove first 3 value in the list\n",
        "print(l1)"
      ]
    },
    {
      "cell_type": "markdown",
      "metadata": {},
      "source": [
        "**Tuples:**\\\n",
        "Tuples are used to store multiple items in a single variable. \\\n",
        "They cannot be updated so immutable.\\\n",
        "They are indexed in the same way as strings and lists.\n",
        "- We can create empty tuple\n",
        "- tuple with one element needs a comma\n",
        "- tuple with multiple values is created using single parathesis.\n"
      ]
    },
    {
      "cell_type": "code",
      "execution_count": 22,
      "metadata": {},
      "outputs": [
        {
          "name": "stdout",
          "output_type": "stream",
          "text": [
            "(8, 54, 3, 434, 656, 5, 22, 3, 2, 32, 3)\n",
            "()\n",
            "(2,)\n",
            "(23, 4, 5, 67)\n"
          ]
        }
      ],
      "source": [
        "t = (8,54,3,434,656,5,22,3,2,32,3)\n",
        "#print\n",
        "print(t)\n",
        "#empty tuple\n",
        "et = ()\n",
        "print(et)\n",
        "\n",
        "# single element tuple\n",
        "t1 = (2) #wrongway not a tuple\n",
        "t1 = (2,) #right way\n",
        "print(t1)\n",
        "\n",
        "# tuple with multiple elements\n",
        "tm = (23,4,5,67)\n",
        "print(tm)"
      ]
    },
    {
      "cell_type": "markdown",
      "metadata": {},
      "source": [
        "**Tuple Methods:**\n",
        "1) *tuple.count(value)*\n",
        "2) *tuple.index(value)*"
      ]
    },
    {
      "cell_type": "code",
      "execution_count": 29,
      "metadata": {},
      "outputs": [
        {
          "name": "stdout",
          "output_type": "stream",
          "text": [
            "2\n",
            "9\n"
          ]
        }
      ],
      "source": [
        "# tuple.count method\n",
        "r = (12,234,34,3,2,21,21,2,12,1,2,12,12,1)\n",
        "print(r.count(21)) # counts occurence of 21in tuple\n",
        "\n",
        "# index method help in searching index\n",
        "print(r.index(1)) # index value the first occurence of value in tuple\n",
        "\n",
        "# "
      ]
    },
    {
      "cell_type": "markdown",
      "metadata": {},
      "source": [
        "## **Practice Set 04**"
      ]
    },
    {
      "cell_type": "code",
      "execution_count": 30,
      "metadata": {},
      "outputs": [
        {
          "name": "stdout",
          "output_type": "stream",
          "text": [
            "['Banana', 'Apple', 'Guava', 'Grapes', 'Pomegranate', 'Water Melon', 'Mango']\n"
          ]
        }
      ],
      "source": [
        "# Write a program to store seven fruits in a list entered by the user\n",
        "\n",
        "f1 = input('1st Fruit Name ')\n",
        "f2 = input('2nd Fruit Name ')\n",
        "f3 = input('3rd Fruit Name ')\n",
        "f4 = input('4th Fruit Name ')\n",
        "f5 = input('5th Fruit Name ')\n",
        "f6 = input('6th Fruit Name ')\n",
        "f7 = input('7th Fruit Name ')\n",
        "\n",
        "fruits = [f1,f2,f3,f4,f5,f6,f7]\n",
        "print(fruits)"
      ]
    },
    {
      "cell_type": "code",
      "execution_count": 31,
      "metadata": {},
      "outputs": [
        {
          "name": "stdout",
          "output_type": "stream",
          "text": [
            "[232, 343, 2323, 4545, 4554, 5656]\n"
          ]
        }
      ],
      "source": [
        "# write a program to accept marks of 6 students and display them in a sorted manner.\n",
        "\n",
        "s1 = input('First Student Marks: ')\n",
        "s1 = int(s1)\n",
        "s2 = input('Second Student Marks: ')\n",
        "s2 = int(s2)\n",
        "s3 = input('Third Student Marks: ')\n",
        "s3 = int(s3)\n",
        "s4 = input('4th Student Marks: ')\n",
        "s4 = int(s4)\n",
        "s5 = input('5th Student Marks: ')\n",
        "s5 = int(s5)\n",
        "s6 = input('6th Student Marks: ')\n",
        "s6 = int(s6)\n",
        "\n",
        "marks = [s1,s2,s3,s4,s5,s6]\n",
        "marks.sort()\n",
        "\n",
        "print(marks)"
      ]
    },
    {
      "cell_type": "code",
      "execution_count": 32,
      "metadata": {},
      "outputs": [
        {
          "ename": "TypeError",
          "evalue": "'tuple' object does not support item assignment",
          "output_type": "error",
          "traceback": [
            "\u001b[1;31m---------------------------------------------------------------------------\u001b[0m",
            "\u001b[1;31mTypeError\u001b[0m                                 Traceback (most recent call last)",
            "\u001b[1;32m~\\AppData\\Local\\Temp/ipykernel_2800/3846850764.py\u001b[0m in \u001b[0;36m<module>\u001b[1;34m\u001b[0m\n\u001b[0;32m      2\u001b[0m \u001b[1;33m\u001b[0m\u001b[0m\n\u001b[0;32m      3\u001b[0m \u001b[0mt1\u001b[0m\u001b[1;33m=\u001b[0m \u001b[1;33m(\u001b[0m\u001b[1;36m1\u001b[0m\u001b[1;33m,\u001b[0m\u001b[1;36m2\u001b[0m\u001b[1;33m,\u001b[0m\u001b[1;36m4\u001b[0m\u001b[1;33m,\u001b[0m\u001b[1;36m5\u001b[0m\u001b[1;33m,\u001b[0m\u001b[1;36m6\u001b[0m\u001b[1;33m,\u001b[0m\u001b[1;36m7\u001b[0m\u001b[1;33m,\u001b[0m\u001b[1;36m8\u001b[0m\u001b[1;33m)\u001b[0m\u001b[1;33m\u001b[0m\u001b[1;33m\u001b[0m\u001b[0m\n\u001b[1;32m----> 4\u001b[1;33m \u001b[0mt1\u001b[0m\u001b[1;33m[\u001b[0m\u001b[1;36m2\u001b[0m\u001b[1;33m]\u001b[0m \u001b[1;33m=\u001b[0m \u001b[1;36m3\u001b[0m\u001b[1;33m\u001b[0m\u001b[1;33m\u001b[0m\u001b[0m\n\u001b[0m\u001b[0;32m      5\u001b[0m \u001b[0mprint\u001b[0m\u001b[1;33m(\u001b[0m\u001b[0mt1\u001b[0m\u001b[1;33m)\u001b[0m\u001b[1;33m\u001b[0m\u001b[1;33m\u001b[0m\u001b[0m\n",
            "\u001b[1;31mTypeError\u001b[0m: 'tuple' object does not support item assignment"
          ]
        }
      ],
      "source": [
        "# check that a tuple cannot be changed in python\n",
        "\n",
        "t1= (1,2,4,5,6,7,8)\n",
        "t1[2] = 3\n",
        "print(t1)"
      ]
    },
    {
      "cell_type": "code",
      "execution_count": 38,
      "metadata": {},
      "outputs": [
        {
          "name": "stdout",
          "output_type": "stream",
          "text": [
            "6006766\n",
            "6006766\n",
            "6006766\n"
          ]
        }
      ],
      "source": [
        "# write a program to sum a list with 4 numbers.\n",
        "\n",
        "lst = [3434,3343,343433,5656556]\n",
        "print(lst[0]+lst[1]+lst[2]+lst[3])\n",
        "print(sum(lst[0:]))\n",
        "print(sum(lst))"
      ]
    },
    {
      "cell_type": "code",
      "execution_count": 35,
      "metadata": {},
      "outputs": [
        {
          "name": "stdout",
          "output_type": "stream",
          "text": [
            "10\n"
          ]
        }
      ],
      "source": [
        "# write a program to count the number of zeros in the following tuple\n",
        "#  t = (7,0,8,0,0,0,9,8,6,5,3,3,3,7,8,96,5,4,5,6,7,7,88,9,9,9,9,0,0,0,0,0,0)\n",
        "\n",
        "t = (7,0,8,0,0,0,9,8,6,5,3,3,3,7,8,96,5,4,5,6,7,7,88,9,9,9,9,0,0,0,0,0,0)\n",
        "print(t.count(0))"
      ]
    },
    {
      "cell_type": "markdown",
      "metadata": {},
      "source": [
        "## **Chapter 05 Dictionary and Sets**\n",
        "\n",
        "**Dictionary**\\\n",
        "It is a set of collection of key-value pairs.\n",
        "\n",
        "**Syntax :**\\\n",
        "a = {'Key1' : 'Value1',\\\n",
        "'ali' : 'dilshad',\\\n",
        "'marks' : 1,\\\n",
        "'list' : [1,2,3,4]\\\n",
        "}\n",
        "\n",
        "a['Key'] ==> prints 'Value'\\\n",
        "a['list] ==> prints [1,2,3,4]\n",
        "\n",
        "**Properties of Dictionaries**\n",
        "- Unordered\n",
        "- Mutable\n",
        "- Indexed\n",
        "- Cannot store duplicate keys\n"
      ]
    },
    {
      "cell_type": "code",
      "execution_count": 6,
      "metadata": {},
      "outputs": [
        {
          "name": "stdout",
          "output_type": "stream",
          "text": [
            "{'Name': 'Dilshad Raza', 'Profession': 'Geologist', 'Interest': 'DataScience', 'Marks': [948, 888], 'Mobile Number': 923087625314, 'GPA': 3.27, 'Education': {'Institute': 'IGUP'}, 1: 2}\n",
            "Dilshad Raza\n",
            "IGUP\n",
            "[948, 888, 12]\n"
          ]
        }
      ],
      "source": [
        "# create dictionary\n",
        "\n",
        "dict ={\n",
        "    'Name' : 'Dilshad Raza',\n",
        "    'Profession' : 'Geologist',\n",
        "    'Interest' : 'DataScience',\n",
        "    'Marks' : [948,888],\n",
        "    'Mobile Number' : 923087625314,\n",
        "    'GPA': 3.27,\n",
        "    'Education' : {'Institute':'IGUP'},\n",
        "    1:2\n",
        "}\n",
        "\n",
        "#printing dictionary\n",
        "print(dict)\n",
        "\n",
        "# getting values based on keys\n",
        "print(dict['Name'])\n",
        "\n",
        "#getting values of nested dictionary = dictionary within dictionary\n",
        "print(dict['Education']['Institute'])\n",
        "\n",
        "#updating dictionaries\n",
        "dict['Marks'] = [948,888,12]\n",
        "print(dict['Marks'])\n"
      ]
    },
    {
      "cell_type": "markdown",
      "metadata": {},
      "source": [
        "**Dictionary Methods:**\n",
        "1) *dict.keys()*\n",
        "2) *dict.values()*\n",
        "3) *dict.items()*\n",
        "4) "
      ]
    },
    {
      "cell_type": "code",
      "execution_count": 22,
      "metadata": {},
      "outputs": [
        {
          "name": "stdout",
          "output_type": "stream",
          "text": [
            "dict_keys(['name', 'profession', 'interest', 'marks', 'mobile', 'GPA', 'education', 1])\n",
            "<class 'dict_keys'>\n",
            "['name', 'profession', 'interest', 'marks', 'mobile', 'GPA', 'education', 1]\n",
            "<class 'list'>\n",
            "dict_values(['Dilshad Raza', 'Geologist', 'DataScience', [948, 888], 923087625314, 3.27, {'institute': 'IGUP'}, 2])\n",
            "<class 'dict_values'>\n",
            "dict_items([('name', 'Dilshad Raza'), ('profession', 'Geologist'), ('interest', 'DataScience'), ('marks', [948, 888]), ('mobile', 923087625314), ('GPA', 3.27), ('education', {'institute': 'IGUP'}), (1, 2)])\n",
            "{'name': 'Dilshad Raza', 'profession': 'Geologist', 'interest': 'DataScience', 'marks': [948, 888], 'mobile': 923087625314, 'GPA': 3.33, 'education': {'institute': 'IGUP'}, 1: 2, 'programming': 'Python', 'city': 'Okara'}\n",
            "Dilshad Raza\n",
            "None\n"
          ]
        }
      ],
      "source": [
        "# create dictionary\n",
        "dict ={\n",
        "    'name' : 'Dilshad Raza',\n",
        "    'profession' : 'Geologist',\n",
        "    'interest' : 'DataScience',\n",
        "    'marks' : [948,888],\n",
        "    'mobile' : 923087625314,\n",
        "    'GPA': 3.27,\n",
        "    'education' : {'institute':'IGUP'},\n",
        "    1:2\n",
        "}\n",
        "\n",
        "# dict.keys method\n",
        "print(dict.keys())\n",
        "print(type(dict.keys()))\n",
        "print(list(dict.keys())) # get keys in the form of list\n",
        "print(type(list(dict.keys())))\n",
        "\n",
        "# values. method\n",
        "print(dict.values())\n",
        "print(type(dict.values()))\n",
        "\n",
        "# items method\n",
        "print(dict.items()) # return a list of key value tuples #prints both (key, value) p\n",
        "\n",
        "# update methods\n",
        "update_dict = {\n",
        "    'programming':'Python',\n",
        "    'city':'Okara',\n",
        "    'GPA': 3.33\n",
        "}\n",
        "dict.update(update_dict) # updates dictionary by adding key value pairs form update_dict\n",
        "#it updates the previosuly present values too as in GPA here.\n",
        "print(dict) \n",
        "\n",
        "# dict.get() method\n",
        "print(dict.get('name')) # return the value but if its key is not present it will return none\n",
        "print(dict.get('Address'))\n"
      ]
    },
    {
      "cell_type": "markdown",
      "metadata": {},
      "source": [
        "**Sets in Python:**\\\n",
        "It is a collection of non repetitive elements.\n",
        "- It doesnt allow repitition.\n",
        "- Repitition is ignored.\n",
        "\n",
        "**Properties of sets**\n",
        "- Unordered------order doesnt matter\n",
        "- Unindexed ----canot be accessed by indexing\n",
        "- Items cannot be changed\n",
        "- Cannot contain duplicate values\n",
        "- Cannot add list in the sets\n",
        "- tuples can be added\n",
        "- dictionaries cannot be added."
      ]
    },
    {
      "cell_type": "code",
      "execution_count": 31,
      "metadata": {},
      "outputs": [
        {
          "name": "stdout",
          "output_type": "stream",
          "text": [
            "{1, 2, 3, 4, 5, 6, 7, 8, 34, (4, 5, 34)}\n",
            "<class 'set'>\n",
            "<class 'dict'>\n",
            "set()\n",
            "<class 'set'>\n"
          ]
        }
      ],
      "source": [
        "# sets in Python\n",
        "#creating a set\n",
        "a ={1,2,3,4,1,3,4,5,6,7,8,34,(4,5,34)}\n",
        "print(a) # print a \n",
        "print(type(a)) # print type of a\n",
        "\n",
        "# empty set\n",
        "e_set = {} # is not right syntax for empty set it will make a dictionary\n",
        "print(type(e_set))\n",
        "# empty set creation\n",
        "e_set = set()\n",
        "print(e_set)\n",
        "print(type(e_set))\n"
      ]
    },
    {
      "cell_type": "code",
      "execution_count": 30,
      "metadata": {},
      "outputs": [
        {
          "name": "stdout",
          "output_type": "stream",
          "text": [
            "{1, 2, 3, 4, 5, 6, 7, 8, 34, 99}\n"
          ]
        }
      ],
      "source": [
        "# Methods on Sets\n",
        "# add method\n",
        "#creating a set\n",
        "a ={1,2,3,4,1,3,4,5,6,7,8,34,4,5,34}\n",
        "a.add(99) # add it once\n",
        "print(a)\n",
        "\n"
      ]
    },
    {
      "cell_type": "code",
      "execution_count": 47,
      "metadata": {},
      "outputs": [
        {
          "name": "stdout",
          "output_type": "stream",
          "text": [
            "6\n",
            "{1, 3, 4, 5, 7}\n",
            "1\n",
            "{3, 4, 5, 7}\n",
            "set()\n",
            "{1, 2, 3, 4, 5, 6}\n",
            "{8, 3, 4, 7}\n"
          ]
        }
      ],
      "source": [
        "\n",
        "s ={1,8,7,5,4,3,1}\n",
        "# print length of set\n",
        "print(len(s))\n",
        "\n",
        "# remove an element\n",
        "s.remove(8)\n",
        "# s.remove(12) # something is not in the set will return key found error.\n",
        "print(s)\n",
        "\n",
        "# pop method to remove and get some value form set\n",
        "print(s.pop()) #removes an arbitrary element from the set and returns the element removed.\n",
        "print(s)\n",
        "\n",
        "# set.clear() method will make your set empty\n",
        "sc={1,2,3}\n",
        "sc.clear()\n",
        "print(sc)\n",
        "\n",
        "# set.union() operation\n",
        "s1 = {3,4,5}\n",
        "s2 = {1,2,6}\n",
        "su = s1.union(s2) # unions the sets and return both values\n",
        "print(su)\n",
        "\n",
        "# set.intersection method\n",
        "s1 ={8,7,6,5,4,3}\n",
        "s2 = {1,2,3,4,7,8,9,10,11,12,13,14,15}\n",
        "\n",
        "si = s1.intersection(s2) # returns common elements in both sets\n",
        "print(si)\n",
        "\n"
      ]
    },
    {
      "cell_type": "markdown",
      "metadata": {},
      "source": [
        "## **Practice set 05**"
      ]
    },
    {
      "cell_type": "code",
      "execution_count": 48,
      "metadata": {},
      "outputs": [
        {
          "name": "stdout",
          "output_type": "stream",
          "text": [
            "['name', 'father name', 'education', 'institute', 'roll no', 'semester', 'GPA', 'completion']\n",
            "Dilshad Raza\n"
          ]
        }
      ],
      "source": [
        "# write a program to create a dictionary of a social professional profile and give user an option to look it up.\n",
        "s_p_dict = {\n",
        "    'name' : 'Dilshad Raza',\n",
        "    'father name' : 'Muhammad Akram',\n",
        "    'education' : 'BS(Hons.) Applied Geology',\n",
        "    'institute' : 'Institute of Geology',\n",
        "    'roll no' : 'BSGY-2018-09',\n",
        "    'semester': '6th',\n",
        "    'GPA': 3.33,\n",
        "    'completion': '2022-09-01'\n",
        "    }\n",
        "\n",
        "print(list(s_p_dict.keys()))\n",
        "a = input('Enter key to Look up from the list above')\n",
        "val = s_p_dict.get(a)\n",
        "print(val)\n",
        "\n"
      ]
    },
    {
      "cell_type": "code",
      "execution_count": 51,
      "metadata": {},
      "outputs": [
        {
          "name": "stdout",
          "output_type": "stream",
          "text": [
            "{1, 2, 3, 4}\n"
          ]
        }
      ],
      "source": [
        "# write a program to input eight numbers from user and display all the unique numbers\n",
        "\n",
        "n1 = int(input('Enter Number 1: '))\n",
        "n2 = int(input('Enter Number 2: '))\n",
        "n3 = int(input('Enter Number 3: '))\n",
        "n4 = int(input('Enter Number 4: '))\n",
        "n5 = int(input('Enter Number 5: '))\n",
        "n6 = int(input('Enter Number 6: '))\n",
        "n7 = int(input('Enter Number 7: '))\n",
        "n8 = int(input('Enter Number 8: '))\n",
        "\n",
        "s = {n1,n2,n3,n4,n5,n6,n7,n8}\n",
        "\n",
        "print(s)\n"
      ]
    },
    {
      "cell_type": "code",
      "execution_count": 52,
      "metadata": {},
      "outputs": [
        {
          "name": "stdout",
          "output_type": "stream",
          "text": [
            "{18, '18'}\n"
          ]
        }
      ],
      "source": [
        "# can we have a set with 18 as integer ans '18' as string in a set\n",
        "s1 = {18,'18'}\n",
        "print(s1)\n",
        "# So the answer is yes\n"
      ]
    },
    {
      "cell_type": "code",
      "execution_count": 55,
      "metadata": {},
      "outputs": [
        {
          "name": "stdout",
          "output_type": "stream",
          "text": [
            "{'20', 20}\n"
          ]
        },
        {
          "data": {
            "text/plain": [
              "2"
            ]
          },
          "execution_count": 55,
          "metadata": {},
          "output_type": "execute_result"
        }
      ],
      "source": [
        "# What will be the length of followin sets:\n",
        "s = set()\n",
        "s.add(20)\n",
        "s.add('20')\n",
        "s.add(20.0)\n",
        "\n",
        "print(s)\n",
        "len(s)\n",
        "\n",
        "# length of set will be 2 after these operations\n"
      ]
    },
    {
      "cell_type": "code",
      "execution_count": 57,
      "metadata": {},
      "outputs": [
        {
          "name": "stdout",
          "output_type": "stream",
          "text": [
            "<class 'dict'>\n"
          ]
        }
      ],
      "source": [
        "# s = {} what is the type of s?\n",
        "\n",
        "s = {}\n",
        "print(type(s))\n",
        "\n",
        "# dictionary is the type of this"
      ]
    },
    {
      "cell_type": "code",
      "execution_count": 62,
      "metadata": {},
      "outputs": [
        {
          "name": "stdout",
          "output_type": "stream",
          "text": [
            "{'ali': 'Python', 'sohaib': 'java', 'Noman': 'julia', 'hashim': 'ruby'}\n"
          ]
        }
      ],
      "source": [
        "# create an empty dictionary, allow four friends to enter their favourite language as values and use keys as their names. Assume that the names are unique.\n",
        "dct = {\n",
        "    \n",
        "}\n",
        "\n",
        "n1 = input('Enter Name:')\n",
        "l1 = input(\"Enter Your Favourite Language: \")\n",
        "n2 = input('Enter Name 2: ')\n",
        "l2 = input(\"Enter Your Favourite Language: \")\n",
        "n3 = input('Enter Name 3: ')\n",
        "l3 = input(\"Enter Your Favourite Language: \")\n",
        "n4 = input('Enter Name 4: ')\n",
        "l4 = input(\"Enter Your Favourite Language: \")\n",
        "\n",
        "# update_dct = {n1:l1,\n",
        "#                n2:l2,\n",
        "#                n3:l3,\n",
        "#                n4:l4}\n",
        "\n",
        "# dct.update(update_dct)\n",
        "\n",
        "# another method\n",
        "dct[n1] = l1\n",
        "dct[n2] = l2\n",
        "dct[n3] = l3\n",
        "dct[n4] = l4\n",
        "print(dct)"
      ]
    },
    {
      "cell_type": "code",
      "execution_count": 66,
      "metadata": {},
      "outputs": [],
      "source": [
        "# can you change the values inside a list which is contianed in a set s?\n",
        "# s = {8,7,12,'Dilshad',[1,2]}\n",
        "# print(s)\n",
        "\n",
        "# as lists are unhashable, so they cannot be used inside sets."
      ]
    },
    {
      "cell_type": "markdown",
      "metadata": {},
      "source": [
        "## **Chapter 06 Conditional Expressions**\n",
        "\n",
        "Sometimes we want to play pubg on our phone, if the day is sunday.\\\n",
        "Sometimes we order Icecream online if the day is sunny.\\\n",
        "Sometime we go hiking if our parents allow.\n",
        "\n",
        "All these are decisions which depends on a condition being met.\n",
        "\n",
        "In python programming too, we must be able to execute functions on a certain condition(s) being met. This is what conditional expressionas are used for.\n",
        "\n",
        "**if else and elif in Python**\\\n",
        "if else and elif statements are a multiway decision takken by our program due to certain conditions in our code.\n",
        "\n",
        "**Syntax:**\\\n",
        "if (condition1):\\\n",
        "----print('yes')\\\n",
        "elif (condition2):\\\n",
        "----print('no)\\\n",
        "else:\\\n",
        "----print('may be)\n",
        "\n",
        "\n",
        "**elif Clause:**\\\n",
        "elif in python means [else if]. An if statements can be chained together with a lot of these elif statements followed by and else statement.\n",
        "\n",
        "- Ladder stops when a condition is if or elif is met."
      ]
    },
    {
      "cell_type": "code",
      "execution_count": 5,
      "metadata": {},
      "outputs": [
        {
          "name": "stdout",
          "output_type": "stream",
          "text": [
            "The value of a is less than 3.\n"
          ]
        }
      ],
      "source": [
        "# conditional expressions:\n",
        "\n",
        "###if else statement ladder if else ladder\n",
        "a =3\n",
        "if a>3:\n",
        "    print('The Value of a is greater than 3.')\n",
        "elif a<13:\n",
        "    print('The value of a is less than 3.')\n",
        "elif a<23:\n",
        "    print('The value of a is less than 3.')\n",
        "elif a>123:\n",
        "    print('The value of a is less than 3.')\n",
        "else:\n",
        "    print('The value of a is equal to 3.')"
      ]
    },
    {
      "cell_type": "code",
      "execution_count": 7,
      "metadata": {},
      "outputs": [
        {
          "name": "stdout",
          "output_type": "stream",
          "text": [
            "Yes\n"
          ]
        }
      ],
      "source": [
        "# quiz\n",
        "# Write a python program to print yes when the age of entered by the user is greater than or equal to 18.\n",
        "\n",
        "age =int(input('Enter Your Age '))\n",
        "\n",
        "if age>=18:\n",
        "    print('Yes')\n",
        "else:\n",
        "    print('User is Underage for this program.')\n"
      ]
    },
    {
      "cell_type": "markdown",
      "metadata": {},
      "source": [
        "**Relational Operators:**\\\n",
        "Relational operators are used to evaluate conditions inside the if statements. Some examples of relational operators are:\\\n",
        "== (equal to)\\\n",
        ">= (greater than or equal to)\\\n",
        "<= (less than or equal to)\n",
        "\n",
        "**Logical Operators:**\\\n",
        "In python logical operators operate on conditional statements.\\\n",
        "**and**    (true if both operands are true else false)\\\n",
        "**or**    (true if one operand is true else false)\\\n",
        "**not**    (inverts true to false and false to true)\n",
        "\n"
      ]
    },
    {
      "cell_type": "code",
      "execution_count": 8,
      "metadata": {},
      "outputs": [
        {
          "name": "stdout",
          "output_type": "stream",
          "text": [
            "Sorry, You cannot work with us.\n"
          ]
        }
      ],
      "source": [
        "# logical and relational operators in conditional \n",
        "\n",
        "age = int(input('Enter Your age: '))\n",
        "if (age>34 and age<56):\n",
        "    print('You are eligible for this program.')\n",
        "else:\n",
        "    print('Sorry, You cannot work with us.')\n",
        "    \n"
      ]
    },
    {
      "cell_type": "code",
      "execution_count": 10,
      "metadata": {},
      "outputs": [
        {
          "name": "stdout",
          "output_type": "stream",
          "text": [
            "Yes\n",
            "False\n"
          ]
        }
      ],
      "source": [
        "# is\n",
        "a = None\n",
        "\n",
        "if (a is None):\n",
        "    print('Yes')\n",
        "else:\n",
        "    print('No')\n",
        "    \n",
        "#in can be used to iterate the list.\n",
        "a = [4,5,6,7,8,5]\n",
        "print(45 in a)\n",
        "\n"
      ]
    },
    {
      "cell_type": "markdown",
      "metadata": {},
      "source": [
        "**Important notes:**\n",
        "- There can be any number of elif statements.\n",
        "- Last else is eqecuted only if all the conditions inside elifs doesn't match or fail.\n",
        "\n",
        "## **Practice Set**"
      ]
    },
    {
      "cell_type": "code",
      "execution_count": 28,
      "metadata": {},
      "outputs": [
        {
          "name": "stdout",
          "output_type": "stream",
          "text": [
            "[3, 32, 23, 43]\n",
            "43,is the greatest Number\n"
          ]
        }
      ],
      "source": [
        "# write a python program to find greatest of four numbers entered by user.\n",
        "\n",
        "n1 = int(input('Enter Number 1: '))\n",
        "n2 = int(input('Enter Number 2: '))\n",
        "n3 = int(input('Enter Number 3: '))\n",
        "n4 = int(input('Enter Number 4: '))\n",
        "l1=[n1,n2,n3,n4]\n",
        "print(l1)\n",
        "if (n1>n2) and (n1>n3)and (n1>n4):\n",
        "    print(f'{n1}, is greatest Number')\n",
        "elif (n2>n1)and(n2>n3)and(n2>n4):\n",
        "    print(f'{n2}, is greatest Number')\n",
        "elif (n3>n1)and(n3>n2)and(n3>n4):\n",
        "    print(f'{n3}, is the greatest Number')\n",
        "elif (n4>n1)and(n4>n2)and(n4>n3):\n",
        "    print(f'{n4},is the greatest Number')\n",
        "else:\n",
        "    print('nothing is greater')\n"
      ]
    },
    {
      "cell_type": "code",
      "execution_count": 29,
      "metadata": {},
      "outputs": [],
      "source": [
        "# write a program to find ou\n",
        "# whether a student is pass or fail, if it requires totaal 40%\n",
        "# and at least 33%, in each subject to pass. Assume 3 subject\n",
        "# and take marks as an input from user.\n",
        "\n",
        "marks1 = int(input('Enter Marks for Fist Subject: '))\n",
        "marks2 = int(input('Enter Marks for Second Subject: '))\n",
        "marks3 = int(input('Enter Marks for Fist Subject: '))\n",
        "obt = marks1+marks2+marks3\n",
        "total_sub_ = 100\n",
        "total = 300\n",
        "ps_perc = 33\n",
        "perc = (obt/total)*100\n",
        "sub1_perc = (marks1/total_sub_)*100\n",
        "sub2_perc = (marks2/total_sub_)*100\n",
        "sub3_perc = (marks3/total_sub_)*100\n",
        "print(perc)\n",
        "print(sub1_perc,sub2_perc,sub3_perc)\n",
        "if perc>=ps_perc and sub1_perc>=ps_perc and sub2_perc>=ps_perc and sub3_perc>=ps_perc:\n",
        "    print(\"Congratulations! You've Passed the Exams\")\n",
        "else:\n",
        "    print(\"Fail! You've to retake exams.\")\n",
        "\n",
        " \n"
      ]
    },
    {
      "cell_type": "code",
      "execution_count": 13,
      "metadata": {},
      "outputs": [
        {
          "name": "stdout",
          "output_type": "stream",
          "text": [
            "Hurray! No Spam Detected.\n"
          ]
        }
      ],
      "source": [
        "# A spam comment is defined as a text containing following key words:\n",
        "# 'make a lot of money', 'buy now', 'subscribe this',\n",
        "# 'click this'\n",
        "# Write a program to detect these spams:\n",
        "comment = input('Enter Message to detect: ')\n",
        "spam = ['make a lot of money', 'buy now', 'subscribe this',\n",
        "        'click this']\n",
        "Spam = False\n",
        "if ('make a lot of money') in comment:\n",
        "    spam = True\n",
        "elif ('buy now') in comment:\n",
        "    spam = True\n",
        "elif ('subscribe this') in comment:\n",
        "    spam = True\n",
        "elif ('click this') in comment:\n",
        "    spam = True\n",
        "else:\n",
        "    spam = False\n",
        "\n",
        "if spam == True:\n",
        "    print('Spam, Check your security.')\n",
        "else:\n",
        "    print('Hurray! No Spam Detected.') "
      ]
    },
    {
      "cell_type": "code",
      "execution_count": 16,
      "metadata": {},
      "outputs": [
        {
          "name": "stdout",
          "output_type": "stream",
          "text": [
            "Less than 10 Characters\n"
          ]
        }
      ],
      "source": [
        "# write a program to find wheteher a given username contatins less than 10 character or not.\n",
        "\n",
        "username = input('Username: ')\n",
        "l = len(username)\n",
        "if l<10:\n",
        "    print('Not Allowed! Less than 10 Characters')\n",
        "else:\n",
        "    print('This Username is available.')\n",
        "    "
      ]
    },
    {
      "cell_type": "code",
      "execution_count": 18,
      "metadata": {},
      "outputs": [
        {
          "name": "stdout",
          "output_type": "stream",
          "text": [
            "Not found..!\n"
          ]
        }
      ],
      "source": [
        "# write a program to find whether a given name is pressent in list or not.\n",
        "name = ['Ali','Ahmad','Sohaib', 'Dilshad', 'Shoaib', 'Noman', 'Rehan', 'Hamza']\n",
        "\n",
        "chk = input('Enter Name to check:  ')\n",
        "\n",
        "if chk in name:\n",
        "    print('Present in the list')\n",
        "else:\n",
        "    print('Not found..!')\n"
      ]
    },
    {
      "cell_type": "code",
      "execution_count": 20,
      "metadata": {},
      "outputs": [
        {
          "name": "stdout",
          "output_type": "stream",
          "text": [
            "Total Marks: 1050\n",
            "Marks Obtained: 888\n",
            "Percentage: 84.57142857142857\n",
            "Grade: A\n"
          ]
        }
      ],
      "source": [
        "# Write a python program to calculate the grade of a stuent from his marks from the follwoing.\n",
        "\n",
        "ttl = int(input('Enter Total Marks: '))\n",
        "obt = int(input('Marks Obtained: '))\n",
        "print(f'Total Marks: {ttl}')\n",
        "print(f'Marks Obtained: {obt}')\n",
        "\n",
        "per = (obt/ttl)*100\n",
        "print(f'Percentage: {per}')\n",
        "\n",
        "if per<50:\n",
        "    print('F')\n",
        "elif per>=50 and per<60:\n",
        "    print('Grade: D')\n",
        "elif per>=60 and per<70:\n",
        "    print('Grade: C')\n",
        "elif per>=70 and per<80:\n",
        "    print('Grade: B')\n",
        "elif per>=80 and per<90:\n",
        "    print('Grade: A')\n",
        "elif per>=90 and per<100:\n",
        "    print('Grade: A+')\n",
        "else:\n",
        "    print('Use Again..!')\n",
        "    \n"
      ]
    },
    {
      "cell_type": "code",
      "execution_count": 22,
      "metadata": {},
      "outputs": [
        {
          "name": "stdout",
          "output_type": "stream",
          "text": [
            "Yes, It is about Dilshad.\n"
          ]
        }
      ],
      "source": [
        "# write a prograM TO FIND OUT WHETHER A GIVEN POST IS TALKING ABOUT DILSHAD OR NOT\n",
        "post = input('Enter Post: ')\n",
        "\n",
        "if ('Dilshad') or ('dilshad') in post:\n",
        "    print('Yes, It is about Dilshad.')\n",
        "else:\n",
        "    print('No, It not about you Dilshad.')"
      ]
    },
    {
      "cell_type": "markdown",
      "metadata": {},
      "source": [
        "# **Chapter 07 Loops in Python**\n",
        "Sometimes we want to repeat a set of statements in our python for instance: print 1 to 1000.\\\n",
        "Loops make it easy for a programmer to tell the computer, which set of instructions to repeat and how.\n",
        "\n",
        "**Type of Loops in Python**\\\n",
        "Primariyl two types of loops are in python:\n",
        "- while lopp\n",
        "- for loop\n",
        "\n",
        "**while loop:**\\\n",
        "The syntax of while loop is\\\n",
        "*while condition:*\\\n",
        "*Body of the loop*\\\n",
        "\n",
        "This loop will continue to execute again and again until condition is satisfied.\\\n",
        "In while loop, the condition is checked first. If it evaluates to true, the body of the loop is executed otherwise not.\\\n",
        "If the loops is entered, the process of condition check and execution is continued until the condition becomes false.\\\n",
        "So, if condition never becomes false; loop will continue to run infinitely.\n",
        "\n"
      ]
    },
    {
      "cell_type": "code",
      "execution_count": 24,
      "metadata": {},
      "outputs": [
        {
          "name": "stdout",
          "output_type": "stream",
          "text": [
            "1\n",
            "2\n",
            "3\n",
            "4\n",
            "5\n",
            "6\n",
            "7\n",
            "8\n",
            "9\n",
            "10\n",
            "11\n",
            "12\n",
            "13\n",
            "14\n",
            "15\n",
            "16\n",
            "17\n",
            "18\n",
            "19\n",
            "20\n",
            "21\n",
            "22\n",
            "23\n",
            "24\n",
            "25\n",
            "26\n",
            "27\n",
            "28\n",
            "29\n",
            "30\n",
            "31\n",
            "32\n",
            "33\n",
            "34\n",
            "35\n",
            "36\n",
            "37\n",
            "38\n",
            "39\n",
            "40\n",
            "41\n",
            "42\n",
            "43\n",
            "44\n",
            "45\n",
            "46\n",
            "47\n",
            "48\n",
            "49\n",
            "50\n"
          ]
        }
      ],
      "source": [
        "# Quiz Program to print 1 to 50 using a while loop\n",
        "\n",
        "i = 0\n",
        "while i<50:\n",
        "    print(i+1) \n",
        "    i = i+1"
      ]
    },
    {
      "cell_type": "code",
      "execution_count": 26,
      "metadata": {},
      "outputs": [
        {
          "name": "stdout",
          "output_type": "stream",
          "text": [
            "Dilshad\n",
            "Dilshad\n",
            "Dilshad\n",
            "Dilshad\n",
            "Dilshad\n"
          ]
        }
      ],
      "source": [
        "# print five time your name\n",
        "i = 0\n",
        "while i<5:\n",
        "    print('Dilshad')\n",
        "    i = i+1"
      ]
    },
    {
      "cell_type": "code",
      "execution_count": 39,
      "metadata": {},
      "outputs": [
        {
          "name": "stdout",
          "output_type": "stream",
          "text": [
            "Dilshad\n",
            "Ali\n",
            "Umair\n",
            "Waqar\n",
            "Adnan\n"
          ]
        }
      ],
      "source": [
        "# quiz print all items of list\n",
        "list1= ['Dilshad','Ali', 'Umair','Waqar', 'Adnan']\n",
        "n = 0\n",
        "while n<len(list1):\n",
        "    print(list1[n])\n",
        "    n = n+1\n",
        "    "
      ]
    },
    {
      "cell_type": "markdown",
      "metadata": {},
      "source": [
        "**for Loop:**\\\n",
        "A for loop is used to iterate through a sequence like list, tuple or string(iterables).\\\n",
        "The syntaax of a for loop is like this:\\\n",
        "l = [1,2,3]\n",
        "*for i in l:*\\\n",
        "*----print(i)*\\\n",
        "**returns:**\\\n",
        "1\\\n",
        "2\\\n",
        "3\n",
        "\n",
        "**RANGE fucntion in python:**\\\n",
        "The range function in python is used to generate a sequence of numbers. We can also specify the start, stop and step size in range function.\n",
        "\n",
        "syntax:\n",
        "\n",
        "*for i range(start,size,step_size):*\\\n",
        "*----print(i)*\n",
        "\n",
        "\n",
        "**for loop with else:**\\\n",
        "An otional else can be used with a for loop if the code is to be executed when the loop exhausts.\n"
      ]
    },
    {
      "cell_type": "code",
      "execution_count": 42,
      "metadata": {},
      "outputs": [
        {
          "name": "stdout",
          "output_type": "stream",
          "text": [
            "0\n",
            "1\n",
            "2\n",
            "3\n",
            "4\n",
            "5\n",
            "6\n",
            "7\n",
            "8\n",
            "9\n",
            "done\n"
          ]
        }
      ],
      "source": [
        "# for loop with else:\n",
        "\n",
        "for i in range(10):\n",
        "    print(i)\n",
        "else:\n",
        "    print('done')"
      ]
    },
    {
      "cell_type": "code",
      "execution_count": 40,
      "metadata": {},
      "outputs": [
        {
          "name": "stdout",
          "output_type": "stream",
          "text": [
            "1\n",
            "3\n",
            "5\n",
            "7\n",
            "9\n"
          ]
        }
      ],
      "source": [
        "# range funciton\n",
        "for i in range(1,10,2):\n",
        "    print(i)"
      ]
    },
    {
      "cell_type": "markdown",
      "metadata": {},
      "source": [
        "**break Statement:**\\\n",
        "break is used to come out of loop when encountered. it instructs the program to exit the loop now."
      ]
    },
    {
      "cell_type": "code",
      "execution_count": 43,
      "metadata": {},
      "outputs": [
        {
          "name": "stdout",
          "output_type": "stream",
          "text": [
            "1\n",
            "3\n",
            "5\n"
          ]
        }
      ],
      "source": [
        "# break statement\n",
        "for i in range(1,10,2):\n",
        "    print(i)\n",
        "    if i==5:\n",
        "        break"
      ]
    },
    {
      "cell_type": "markdown",
      "metadata": {},
      "source": [
        "**continue Statement:**\\\n",
        "continue is used to stop current iteration of the loop and continue with next one. It instructs the program to 'skip this iteration'\n",
        "\n"
      ]
    },
    {
      "cell_type": "code",
      "execution_count": 46,
      "metadata": {},
      "outputs": [
        {
          "name": "stdout",
          "output_type": "stream",
          "text": [
            "0\n",
            "2\n",
            "4\n",
            "6\n",
            "8\n"
          ]
        }
      ],
      "source": [
        "for i in range(10):\n",
        "    if i%2:\n",
        "        continue\n",
        "    print(i)"
      ]
    },
    {
      "cell_type": "markdown",
      "metadata": {},
      "source": [
        "**pass Statement:**\\\n",
        "pass statement is a null statement in python. It instructs to do nothing with that part of code.\n"
      ]
    },
    {
      "cell_type": "code",
      "execution_count": 47,
      "metadata": {},
      "outputs": [],
      "source": [
        "# pass statements\n",
        "l = [1,2,3]\n",
        "for item in l:\n",
        "    pass"
      ]
    },
    {
      "cell_type": "markdown",
      "metadata": {},
      "source": [
        "## **Practice Set 07**"
      ]
    },
    {
      "cell_type": "code",
      "execution_count": 50,
      "metadata": {},
      "outputs": [
        {
          "name": "stdout",
          "output_type": "stream",
          "text": [
            "20.0 x 1 = 20.0\n",
            "20.0 x 2 = 40.0\n",
            "20.0 x 3 = 60.0\n",
            "20.0 x 4 = 80.0\n",
            "20.0 x 5 = 100.0\n",
            "20.0 x 6 = 120.0\n",
            "20.0 x 7 = 140.0\n",
            "20.0 x 8 = 160.0\n",
            "20.0 x 9 = 180.0\n",
            "20.0 x 10 = 200.0\n"
          ]
        }
      ],
      "source": [
        "# write a program to print multiplication table of a given number using for loop.\n",
        "n = float(input(\"Enter a Number to see Table: \"))\n",
        "for i in range(1,11):\n",
        "    print(str(n),'x',str(i),'=',i*n)\n",
        "    "
      ]
    },
    {
      "cell_type": "code",
      "execution_count": 3,
      "metadata": {},
      "outputs": [
        {
          "name": "stdout",
          "output_type": "stream",
          "text": [
            "Hello! Shahid\n",
            "Hello! Sohaib\n",
            "Hello! Shoaib\n",
            "Hello! Salman\n"
          ]
        }
      ],
      "source": [
        "# write a program to greet all people in the list given 'people'\n",
        "# to greet them and their names starts with S.\n",
        "\n",
        "people = ['Dilshad', 'Shahid', 'Sohaib', 'Shoaib', 'Salman','Ali']\n",
        "\n",
        "for name in people:\n",
        "    if name.startswith('S'):\n",
        "        print('Hello! '+name)\n"
      ]
    },
    {
      "cell_type": "code",
      "execution_count": 6,
      "metadata": {},
      "outputs": [
        {
          "name": "stdout",
          "output_type": "stream",
          "text": [
            "2.0 x 1 = 2.0\n",
            "2.0 x 2 = 4.0\n",
            "2.0 x 3 = 6.0\n",
            "2.0 x 4 = 8.0\n",
            "2.0 x 5 = 10.0\n",
            "2.0 x 6 = 12.0\n",
            "2.0 x 7 = 14.0\n",
            "2.0 x 8 = 16.0\n",
            "2.0 x 9 = 18.0\n",
            "2.0 x 10 = 20.0\n"
          ]
        }
      ],
      "source": [
        "# attempt problem 1 using while loop\n",
        "n = float(input(\"Enter a Number to see Table: \"))\n",
        "\n",
        "i =1\n",
        "while i<11:\n",
        "    a = i*n\n",
        "    print(f'{n} x {i} = {a}')\n",
        "    i = i+1"
      ]
    },
    {
      "cell_type": "code",
      "execution_count": 12,
      "metadata": {},
      "outputs": [
        {
          "name": "stdout",
          "output_type": "stream",
          "text": [
            "Not a prime number\n"
          ]
        }
      ],
      "source": [
        "# write a program to find whether a given number is prime or not\n",
        "\n",
        "pn = int(input('Enter number: '))\n",
        "prime = True\n",
        "for i in range(2, pn):\n",
        "    if (pn%i==0):\n",
        "        prime = False\n",
        "if prime:\n",
        "    print('This number is prime number.')\n",
        "else:\n",
        "    print('Not a prime number')        \n",
        "        "
      ]
    },
    {
      "cell_type": "code",
      "execution_count": 15,
      "metadata": {},
      "outputs": [
        {
          "name": "stdout",
          "output_type": "stream",
          "text": [
            "The result is 6\n"
          ]
        }
      ],
      "source": [
        "# write a program to find the sum of first n natural numbers using while loop\n",
        "num = int(input(\"Enter a number: \")) \n",
        "\n",
        "if num < 0:\n",
        "   print(\"Please enter a positive number\")\n",
        "else:\n",
        "   sum = 0\n",
        "   \n",
        "   # use while loop to iterate until zero\n",
        "   while(num > 0):\n",
        "       sum += num\n",
        "       num -= 1\n",
        "   print(\"The result is\", sum)"
      ]
    },
    {
      "cell_type": "code",
      "execution_count": 20,
      "metadata": {},
      "outputs": [
        {
          "name": "stdout",
          "output_type": "stream",
          "text": [
            "The factorial of 5 is 120\n"
          ]
        }
      ],
      "source": [
        "# write a program to calculate the factorial of a given number using for loop.\n",
        "n = int(input('Enter Number: '))\n",
        "fac = 1\n",
        "for i in range(1,n+1):\n",
        "    fac = fac*i\n",
        "print(f'The factorial of {n} is {fac}')\n",
        "\n"
      ]
    },
    {
      "cell_type": "code",
      "execution_count": 22,
      "metadata": {},
      "outputs": [
        {
          "name": "stdout",
          "output_type": "stream",
          "text": [
            "*\n",
            "**\n",
            "***\n",
            "****\n"
          ]
        }
      ],
      "source": [
        "# write a program to print the following star print;\n",
        "\n",
        "# *\n",
        "# **\n",
        "# ***\n",
        "# ****\n",
        "\n",
        "n = 4\n",
        "for i in range(4):\n",
        "    print('*'*(i+1))\n"
      ]
    },
    {
      "cell_type": "code",
      "execution_count": 31,
      "metadata": {},
      "outputs": [
        {
          "name": "stdout",
          "output_type": "stream",
          "text": [
            "    \n",
            " * \n",
            "***\n"
          ]
        }
      ],
      "source": [
        "n = 3\n",
        "for i in range(3):\n",
        "    print(' ' *(n-i-1), end=\"\")\n",
        "    print('*' *(2*i-1), end=\"\")\n",
        "    print(' ' *(n-i-1))\n",
        "        "
      ]
    },
    {
      "cell_type": "code",
      "execution_count": 38,
      "metadata": {},
      "outputs": [
        {
          "name": "stdout",
          "output_type": "stream",
          "text": [
            "2.0 x 10 = 20.0\n",
            "2.0 x 9 = 18.0\n",
            "2.0 x 8 = 16.0\n",
            "2.0 x 7 = 14.0\n",
            "2.0 x 6 = 12.0\n",
            "2.0 x 5 = 10.0\n",
            "2.0 x 4 = 8.0\n",
            "2.0 x 3 = 6.0\n",
            "2.0 x 2 = 4.0\n",
            "2.0 x 1 = 2.0\n"
          ]
        }
      ],
      "source": [
        "n = float(input(\"Enter a Number to see Table: \"))\n",
        "for i in range(10,0,-1):\n",
        "    print(str(n),'x',str(i),'=',i*n)"
      ]
    },
    {
      "cell_type": "code",
      "execution_count": 5,
      "metadata": {},
      "outputs": [
        {
          "name": "stdout",
          "output_type": "stream",
          "text": [
            "1\n",
            "2\n",
            "3\n",
            "4\n",
            "5\n",
            "6\n",
            "7\n",
            "8\n",
            "9\n",
            "10\n"
          ]
        }
      ],
      "source": [
        "# Exercise 1: Print First 10 natural numbers using while loop\n",
        "i = 0\n",
        "while i<10:\n",
        "    print(i+1)\n",
        "    i = i+1"
      ]
    },
    {
      "cell_type": "code",
      "execution_count": 23,
      "metadata": {},
      "outputs": [
        {
          "name": "stdout",
          "output_type": "stream",
          "text": [
            "\n",
            "1 \n",
            "2 2 \n",
            "3 3 3 \n",
            "4 4 4 4 \n",
            "5 5 5 5 5 \n"
          ]
        }
      ],
      "source": [
        "# Print the following pattern\n",
        "rows = 6\n",
        "\n",
        "for i in range(rows):\n",
        "    for j in range(i):\n",
        "        print(i, end=' ')\n",
        "    print('')"
      ]
    },
    {
      "cell_type": "code",
      "execution_count": 28,
      "metadata": {},
      "outputs": [
        {
          "name": "stdout",
          "output_type": "stream",
          "text": [
            "1 \n",
            "1 2 \n",
            "1 2 3 \n",
            "1 2 3 4 \n",
            "1 2 3 4 5 \n"
          ]
        }
      ],
      "source": [
        "n = 5\n",
        "for i in range(1,n+1):\n",
        "    for j in range(1,i+1):\n",
        "        print(j, end=' ')\n",
        "    print('')"
      ]
    },
    {
      "cell_type": "code",
      "execution_count": 33,
      "metadata": {},
      "outputs": [
        {
          "name": "stdout",
          "output_type": "stream",
          "text": [
            "1 1 1 1 1 \n",
            "2 2 2 2 \n",
            "3 3 3 \n",
            "4 4 \n",
            "5 \n"
          ]
        }
      ],
      "source": [
        "n = 5\n",
        "b =0\n",
        "for i in range(n,0, -1):\n",
        "    b += 1\n",
        "    for j in range(1,i+1):\n",
        "        print(b,end=' ')\n",
        "    print('\\r')"
      ]
    },
    {
      "cell_type": "code",
      "execution_count": 34,
      "metadata": {},
      "outputs": [
        {
          "name": "stdout",
          "output_type": "stream",
          "text": [
            "5 5 5 5 5 \n",
            "5 5 5 5 \n",
            "5 5 5 \n",
            "5 5 \n",
            "5 \n"
          ]
        }
      ],
      "source": [
        "n = 5\n",
        "r = n\n",
        "for i in range(n,0,-1):\n",
        "    for j in range(0,i):\n",
        "        print(r, end=' ')\n",
        "    print('\\r')"
      ]
    },
    {
      "cell_type": "code",
      "execution_count": 40,
      "metadata": {},
      "outputs": [
        {
          "name": "stdout",
          "output_type": "stream",
          "text": [
            "0 1 2 3 4 5 \n",
            "0 1 2 3 4 \n",
            "0 1 2 3 \n",
            "0 1 2 \n",
            "0 1 \n"
          ]
        }
      ],
      "source": [
        "rows = 5\n",
        "for i in range(rows, 0, -1):\n",
        "    # print(i)\n",
        "    for j in range(0, i + 1):\n",
        "      print(j, end=' ')  \n",
        "    #   print(j, end=' ')\n",
        "    print(\"\\r\")\n"
      ]
    },
    {
      "cell_type": "code",
      "execution_count": 41,
      "metadata": {},
      "outputs": [
        {
          "name": "stdout",
          "output_type": "stream",
          "text": [
            "1 \n",
            "3 3 \n",
            "5 5 5 \n",
            "7 7 7 7 \n",
            "9 9 9 9 9 \n"
          ]
        }
      ],
      "source": [
        "rows = 5\n",
        "i = 1\n",
        "while i <= rows:\n",
        "    j = 1\n",
        "    while j <= i:\n",
        "        print((i * 2 - 1), end=\" \")\n",
        "        j = j + 1\n",
        "    i = i + 1\n",
        "    print('')\n"
      ]
    },
    {
      "cell_type": "code",
      "execution_count": 42,
      "metadata": {},
      "outputs": [
        {
          "name": "stdout",
          "output_type": "stream",
          "text": [
            "5 5 5 5 5 \n",
            "4 4 4 4 \n",
            "3 3 3 \n",
            "2 2 \n",
            "1 \n"
          ]
        }
      ],
      "source": [
        "rows = 5\n",
        "# reverse loop\n",
        "for i in range(rows, 0, -1):\n",
        "    num = i\n",
        "    for j in range(0, i):\n",
        "        print(num, end=' ')\n",
        "    print(\"\\r\")\n"
      ]
    },
    {
      "cell_type": "code",
      "execution_count": 43,
      "metadata": {},
      "outputs": [
        {
          "name": "stdout",
          "output_type": "stream",
          "text": [
            "1 \n",
            "2 1 \n",
            "3 2 1 \n",
            "4 3 2 1 \n",
            "5 4 3 2 1 \n"
          ]
        }
      ],
      "source": [
        "rows = 6\n",
        "for i in range(1, rows):\n",
        "    for j in range(i, 0, -1):\n",
        "        print(j, end=' ')\n",
        "    print(\"\")\n"
      ]
    },
    {
      "cell_type": "code",
      "execution_count": 44,
      "metadata": {},
      "outputs": [
        {
          "name": "stdout",
          "output_type": "stream",
          "text": [
            "5 4 3 2 1 \n",
            "4 3 2 1 \n",
            "3 2 1 \n",
            "2 1 \n",
            "1 \n",
            "\n"
          ]
        }
      ],
      "source": [
        "rows = 5\n",
        "for i in range(0, rows + 1):\n",
        "    for j in range(rows - i, 0, -1):\n",
        "        print(j, end=' ')\n",
        "    print()"
      ]
    },
    {
      "cell_type": "code",
      "execution_count": 45,
      "metadata": {},
      "outputs": [
        {
          "name": "stdout",
          "output_type": "stream",
          "text": [
            "1 \n",
            "3 2 \n",
            "6 5 4 \n",
            "10 9 8 7 \n"
          ]
        }
      ],
      "source": [
        "start = 1\n",
        "stop = 2\n",
        "current_num = stop\n",
        "for row in range(2, 6):\n",
        "    for col in range(start, stop):\n",
        "        current_num -= 1\n",
        "        print(current_num, end=' ')\n",
        "    print(\"\")\n",
        "    start = stop\n",
        "    stop += row\n",
        "    current_num = stop"
      ]
    },
    {
      "cell_type": "code",
      "execution_count": 46,
      "metadata": {},
      "outputs": [
        {
          "name": "stdout",
          "output_type": "stream",
          "text": [
            "          1 \n",
            "        1 2 \n",
            "      1 2 3 \n",
            "    1 2 3 4 \n",
            "  1 2 3 4 5 \n"
          ]
        }
      ],
      "source": [
        "rows = 6\n",
        "for i in range(1, rows):\n",
        "    num = 1\n",
        "    for j in range(rows, 0, -1):\n",
        "        if j > i:\n",
        "            print(\" \", end=' ')\n",
        "        else:\n",
        "            print(num, end=' ')\n",
        "            num += 1\n",
        "    print(\"\")\n"
      ]
    },
    {
      "cell_type": "code",
      "execution_count": 47,
      "metadata": {},
      "outputs": [
        {
          "name": "stdout",
          "output_type": "stream",
          "text": [
            "1 \n",
            "1 1 \n",
            "1 2 1 \n",
            "1 3 3 1 \n",
            "1 4 6 4 1 \n",
            "1 5 10 10 5 1 \n",
            "1 6 15 20 15 6 1 \n"
          ]
        }
      ],
      "source": [
        "def print_pascal_triangle(size):\n",
        "    for i in range(0, size):\n",
        "        for j in range(0, i + 1):\n",
        "            print(decide_number(i, j), end=\" \")\n",
        "        print()\n",
        "\n",
        "\n",
        "def decide_number(n, k):\n",
        "    num = 1\n",
        "    if k > n - k:\n",
        "        k = n - k\n",
        "    for i in range(0, k):\n",
        "        num = num * (n - i)\n",
        "        num = num // (i + 1)\n",
        "    return num\n",
        "\n",
        "# set rows\n",
        "rows = 7\n",
        "print_pascal_triangle(rows)\n"
      ]
    },
    {
      "cell_type": "code",
      "execution_count": 56,
      "metadata": {},
      "outputs": [
        {
          "name": "stdout",
          "output_type": "stream",
          "text": [
            "75\n",
            "150\n",
            "145\n"
          ]
        }
      ],
      "source": [
        "# # Display numbers from a list using loop\n",
        "# Write a program to display only those numbers from a list that satisfy the following conditions\n",
        "\n",
        "# The number must be divisible by five\n",
        "# If the number is greater than 150, then skip it and move to the next number\n",
        "# If the number is greater than 500, then stop the loop\n",
        "\n",
        "\n",
        "list = [12, 75, 150, 180, 145, 525, 50]\n",
        "b = 150\n",
        "c = 500\n",
        "for i in list:\n",
        "    a = i%5\n",
        "    if i>c:\n",
        "        break\n",
        "    elif i>b:\n",
        "        continue\n",
        "    elif (a ==0):\n",
        "        print(i)"
      ]
    },
    {
      "cell_type": "code",
      "execution_count": 58,
      "metadata": {},
      "outputs": [
        {
          "name": "stdout",
          "output_type": "stream",
          "text": [
            "Total digits are: 6\n"
          ]
        }
      ],
      "source": [
        "# Write a program to count the total number of digits in a number using a while loop.\n",
        "num = int(input('Enter number:'))\n",
        "i = 0\n",
        "while num!= 0:\n",
        "    num = num//10\n",
        "    i = i+1\n",
        "print(f'Total digits are: {i}')"
      ]
    },
    {
      "cell_type": "code",
      "execution_count": 75,
      "metadata": {},
      "outputs": [
        {
          "name": "stdout",
          "output_type": "stream",
          "text": [
            "5 4 3 2 1 \n",
            "4 3 2 1 \n",
            "3 2 1 \n",
            "2 1 \n",
            "1 \n",
            "\n"
          ]
        }
      ],
      "source": [
        "n = 5\n",
        "k = 5\n",
        "for i in range(0,n+1):\n",
        "    for j in range(k-i,0,-1):\n",
        "        print(j,end=' ')\n",
        "    print()"
      ]
    },
    {
      "cell_type": "code",
      "execution_count": 78,
      "metadata": {},
      "outputs": [
        {
          "name": "stdout",
          "output_type": "stream",
          "text": [
            "50\n",
            "40\n",
            "30\n",
            "20\n",
            "10\n"
          ]
        }
      ],
      "source": [
        "list1 = [10, 20, 30, 40, 50]\n",
        "reverselist= reversed(list1)\n",
        "for i in reverselist:\n",
        "    print(i)"
      ]
    },
    {
      "cell_type": "code",
      "execution_count": 82,
      "metadata": {},
      "outputs": [
        {
          "name": "stdout",
          "output_type": "stream",
          "text": [
            "-10\n",
            "-9\n",
            "-8\n",
            "-7\n",
            "-6\n",
            "-5\n",
            "-4\n",
            "-3\n",
            "-2\n",
            "-1\n"
          ]
        }
      ],
      "source": [
        "for num in range(-10, 0, 1):\n",
        "    print(num)"
      ]
    },
    {
      "cell_type": "code",
      "execution_count": 83,
      "metadata": {},
      "outputs": [
        {
          "name": "stdout",
          "output_type": "stream",
          "text": [
            "0\n",
            "1\n",
            "2\n",
            "3\n",
            "4\n",
            "Done!\n"
          ]
        }
      ],
      "source": [
        "for i in range(5):\n",
        "    print(i)\n",
        "else:\n",
        "    print('Done!')"
      ]
    }
  ],
  "metadata": {
    "colab": {
      "collapsed_sections": [],
      "name": "Python Training.ipynb",
      "provenance": []
    },
    "kernelspec": {
      "display_name": "Python 3.10.5 64-bit",
      "language": "python",
      "name": "python3"
    },
    "language_info": {
      "codemirror_mode": {
        "name": "ipython",
        "version": 3
      },
      "file_extension": ".py",
      "mimetype": "text/x-python",
      "name": "python",
      "nbconvert_exporter": "python",
      "pygments_lexer": "ipython3",
      "version": "3.10.5"
    },
    "vscode": {
      "interpreter": {
        "hash": "243456f4527cc2dd26a7b0db2d7f593392b55e517837c7eea3c1c2996538c2e6"
      }
    }
  },
  "nbformat": 4,
  "nbformat_minor": 0
}
